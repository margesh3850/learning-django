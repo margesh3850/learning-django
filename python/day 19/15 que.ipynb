{
 "cells": [
  {
   "cell_type": "code",
   "execution_count": 11,
   "metadata": {},
   "outputs": [
    {
     "name": "stdout",
     "output_type": "stream",
     "text": [
      "30\n",
      "Inputs must be integers!\n"
     ]
    }
   ],
   "source": [
    "\n",
    "# 1.\tDefine a function called `add_numbers` that takes two parameters `a` and `b`, and returns the sum of `a` and `b`. \n",
    "def add_numbers(a, b):\n",
    "       if not (isinstance(a, int) and isinstance(b, int)):\n",
    "            return \"Inputs must be integers!\"\n",
    "       return a + b\n",
    "\n",
    "print(add_numbers(10, 20))   \n",
    "print(add_numbers('5', 6))    \n"
   ]
  },
  {
   "cell_type": "code",
   "execution_count": 15,
   "metadata": {},
   "outputs": [
    {
     "name": "stdout",
     "output_type": "stream",
     "text": [
      "Average value of the list:\n",
      "\n",
      "67.514\n"
     ]
    }
   ],
   "source": [
    "# 2.\tWrite a function named `calculate_average` that takes a list of numbers as input and returns the average of those numbers. \n",
    "def calculate_average(lst):\n",
    "    return sum(lst) / len(lst)\n",
    "\n",
    "inp_lst = [12, 45, 78, 36, 45, 237.11, -1, 88]\n",
    "\n",
    "lst_avg = calculate_average(inp_lst)\n",
    "print(\"Average value of the list:\\n\") \n",
    "print( round(lst_avg, 3))\n"
   ]
  },
  {
   "cell_type": "code",
   "execution_count": 18,
   "metadata": {},
   "outputs": [
    {
     "name": "stdout",
     "output_type": "stream",
     "text": [
      "Even numbers in the list:\n",
      "\n",
      "[12, 78, 36, 88]\n"
     ]
    }
   ],
   "source": [
    "# 3.\tCreate a function called `check_even` that takes a number as input and returns `True` if the number is even, otherwise `False`. \n",
    "def check_even(num):\n",
    "    return num % 2==0\n",
    "\n",
    "inp_lst = [12, 45, 78, 36, 45, 237.11, -1, 88]\n",
    "even_numbers = list(filter(check_even, inp_lst))\n",
    "print(even_numbers)"
   ]
  },
  {
   "cell_type": "code",
   "execution_count": 22,
   "metadata": {},
   "outputs": [
    {
     "name": "stdout",
     "output_type": "stream",
     "text": [
      "24\n"
     ]
    }
   ],
   "source": [
    "# 4.\tDefine a function named `factorial` that calculates the factorial of a given number. (Assume the input is a non-negative integer.) \n",
    "def factorial(n):\n",
    "    if n == 0:\n",
    "        return 1\n",
    "    else:\n",
    "        return n * factorial(n-1)\n",
    "\n",
    "n=int(input(\"Enter a number: \"))\n",
    "print (factorial(n))"
   ]
  },
  {
   "cell_type": "code",
   "execution_count": 27,
   "metadata": {},
   "outputs": [
    {
     "name": "stdout",
     "output_type": "stream",
     "text": [
      "yaj\n"
     ]
    }
   ],
   "source": [
    "# 5.\tWrite a function called `reverse_string` that takes a string as input and returns the reverse of that string. \n",
    "def reverse_string(n):\n",
    "    if not isinstance(n ,str):\n",
    "       raise  TypeError(\"Input should be a string\") \n",
    "    return n[::-1]    \n",
    "n=input(\"enter a string to reverse\")\n",
    "print(reverse_string(n))"
   ]
  },
  {
   "cell_type": "code",
   "execution_count": 2,
   "metadata": {},
   "outputs": [
    {
     "name": "stdout",
     "output_type": "stream",
     "text": [
      "248063644451341145494649182395412689744530581492654164321720600128173828125\n"
     ]
    }
   ],
   "source": [
    "# 6.\tWrite a function named `compute_power` that takes two integers `base` and `exponent` as input and returns `base` raised to the power of `exponent`. \n",
    "def compute_power(base, exponent):\n",
    "   return base ** exponent\n",
    "   def calculate_power(base, exponent):\n",
    "    if exponent == 0:\n",
    "        return 1\n",
    "    else:\n",
    "        return base * calculate_power(base, exponent - 1)\n",
    "base = int(input(\"Input a base: \"))\n",
    "exponent = int(input(\"Input an exponent: \"))\n",
    "print(compute_power(base, exponent))\n",
    "        \n"
   ]
  },
  {
   "cell_type": "code",
   "execution_count": null,
   "metadata": {},
   "outputs": [],
   "source": []
  },
  {
   "cell_type": "code",
   "execution_count": null,
   "metadata": {},
   "outputs": [],
   "source": []
  }
 ],
 "metadata": {
  "kernelspec": {
   "display_name": "Python 3",
   "language": "python",
   "name": "python3"
  },
  "language_info": {
   "codemirror_mode": {
    "name": "ipython",
    "version": 3
   },
   "file_extension": ".py",
   "mimetype": "text/x-python",
   "name": "python",
   "nbconvert_exporter": "python",
   "pygments_lexer": "ipython3",
   "version": "3.12.2"
  }
 },
 "nbformat": 4,
 "nbformat_minor": 2
}
