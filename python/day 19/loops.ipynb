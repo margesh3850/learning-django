{
 "cells": [
  {
   "cell_type": "code",
   "execution_count": 5,
   "metadata": {},
   "outputs": [],
   "source": [
    "def primeChecker(isPrime):\n",
    "    flag = True\n",
    "    if isPrime == 1 or isPrime == 0:\n",
    "        return f\"composite number {isPrime}\"\n",
    "    for i in range(2, isPrime):\n",
    "        if isPrime % i == 0:\n",
    "            flag = False\n",
    "            break\n",
    "        if flag:\n",
    "            return f\"prime{isPrime}\"\n",
    "            "
   ]
  },
  {
   "cell_type": "code",
   "execution_count": 12,
   "metadata": {},
   "outputs": [
    {
     "name": "stdout",
     "output_type": "stream",
     "text": [
      "composite number 0\n",
      "composite number 1\n",
      "prime3\n",
      "prime5\n",
      "prime7\n",
      "prime9\n"
     ]
    }
   ],
   "source": [
    "for i in range(10):\n",
    "    if primeChecker(i) == None:\n",
    "        pass\n",
    "    else:\n",
    "        print(primeChecker(i))"
   ]
  },
  {
   "cell_type": "code",
   "execution_count": 15,
   "metadata": {},
   "outputs": [
    {
     "name": "stdout",
     "output_type": "stream",
     "text": [
      "The string is a palindrome\n"
     ]
    }
   ],
   "source": [
    "string=input((\"Enter a string:\"))\n",
    "if(string==string[::-1]):\n",
    "      print(\"The string is a palindrome\")\n",
    "else:\n",
    "      print(\"Not a palindrome\")"
   ]
  },
  {
   "cell_type": "code",
   "execution_count": 29,
   "metadata": {},
   "outputs": [
    {
     "name": "stdout",
     "output_type": "stream",
     "text": [
      "Multiples of 3 and 5 between 1 and 10: [3, 5, 6, 9, 10]\n"
     ]
    }
   ],
   "source": [
    "def find_multiples(start, end):\n",
    "    multiples = []\n",
    "    for i in range(start, end + 1):\n",
    "        if i % 3 == 0 or i % 5 == 0:\n",
    "            multiples.append(i)\n",
    "    return multiples\n",
    "\n",
    "start = 1\n",
    "end = 10\n",
    "multiples = find_multiples(start, end)\n",
    "print(f\"Multiples of 3 and 5 between {start} and {end}: {multiples}\")"
   ]
  },
  {
   "cell_type": "code",
   "execution_count": 5,
   "metadata": {},
   "outputs": [
    {
     "name": "stdout",
     "output_type": "stream",
     "text": [
      "4\n",
      "120\n"
     ]
    }
   ],
   "source": [
    "number = (int(input(\"enter a number\")))\n",
    "print(number)\n",
    "\n",
    "def factorial(n):\n",
    "    if n == 0:\n",
    "        return 1\n",
    "    else:\n",
    "        result = 1\n",
    "        for i in range(1, n + 1):\n",
    "            result *= i\n",
    "        return result\n"
   ]
  },
  {
   "cell_type": "code",
   "execution_count": null,
   "metadata": {},
   "outputs": [],
   "source": []
  }
 ],
 "metadata": {
  "kernelspec": {
   "display_name": "Python 3",
   "language": "python",
   "name": "python3"
  },
  "language_info": {
   "codemirror_mode": {
    "name": "ipython",
    "version": 3
   },
   "file_extension": ".py",
   "mimetype": "text/x-python",
   "name": "python",
   "nbconvert_exporter": "python",
   "pygments_lexer": "ipython3",
   "version": "3.12.2"
  }
 },
 "nbformat": 4,
 "nbformat_minor": 2
}
