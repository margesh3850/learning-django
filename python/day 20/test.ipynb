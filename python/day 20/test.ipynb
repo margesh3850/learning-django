{
 "cells": [
  {
   "cell_type": "code",
   "execution_count": 40,
   "metadata": {},
   "outputs": [
    {
     "name": "stdout",
     "output_type": "stream",
     "text": [
      "200\n",
      "Inputs must be integers!\n"
     ]
    }
   ],
   "source": [
    "# Write a Python function called `multiply` that takes two parameters `a` and `b` and returns their product.\n",
    "def multiply(a, b):\n",
    "       if not (isinstance(a, int) and isinstance(b, int)):\n",
    "            return \"Inputs must be integers!\"\n",
    "       return a * b\n",
    "\n",
    "print(multiply(10, 20))   \n",
    "print(multiply('5', 6)) "
   ]
  },
  {
   "cell_type": "code",
   "execution_count": 41,
   "metadata": {},
   "outputs": [
    {
     "name": "stdout",
     "output_type": "stream",
     "text": [
      "2\n",
      "4\n",
      "6\n",
      "8\n",
      "10\n",
      "12\n",
      "14\n",
      "16\n",
      "18\n",
      "20\n"
     ]
    }
   ],
   "source": [
    "# Write a Python program to print all the even numbers between 1 and 20 using a for loop. \n",
    "for i in range(1, 21):\n",
    "    if i % 2 == 0:\n",
    "        print(i)\n",
    "\n",
    "\n"
   ]
  },
  {
   "cell_type": "code",
   "execution_count": 42,
   "metadata": {},
   "outputs": [
    {
     "name": "stdout",
     "output_type": "stream",
     "text": [
      "Positive number\n"
     ]
    }
   ],
   "source": [
    "# Write a Python program that takes an integer input from the user and prints whether it is positive, negative, or zero using if...else statements\n",
    "num = int(input(\"Enter a number: \"))\n",
    "\n",
    "if num > 0:\n",
    "    print(\"Positive number\")\n",
    "elif num == 0:\n",
    "    print(\"Zero\")\n",
    "else:\n",
    "    print(\"Negative number\")"
   ]
  },
  {
   "cell_type": "code",
   "execution_count": 43,
   "metadata": {},
   "outputs": [
    {
     "name": "stdout",
     "output_type": "stream",
     "text": [
      "*\n",
      "**\n",
      "***\n",
      "****\n"
     ]
    }
   ],
   "source": [
    "# . Write a Python program to print the following pattern: \n",
    "#    ``` \n",
    "#    * \n",
    "#    ** \n",
    "#    *** \n",
    "#    **** \n",
    "#    ``` \n",
    "for i in range(1, 5):\n",
    "    print(\"*\"  * i)\n",
    "\n"
   ]
  },
  {
   "cell_type": "code",
   "execution_count": 45,
   "metadata": {},
   "outputs": [
    {
     "name": "stdout",
     "output_type": "stream",
     "text": [
      "4 is not a prime number\n"
     ]
    }
   ],
   "source": [
    "# Write a Python function called `is_prime` that takes an integer parameter `num` and returns True if it is a prime number, otherwise returns False. \n",
    "num = int(input(\"Enter a number: \"))\n",
    "flag = False\n",
    "if num == 1:\n",
    "    print(num, \"is not a prime number\")\n",
    "elif num > 1:\n",
    "    for i in range(2, num):\n",
    "        if (num % i) == 0:\n",
    "            flag = True\n",
    "            break\n",
    "    if flag:\n",
    "        print(num, \"is not a prime number\")\n",
    "    else:\n",
    "        print(num, \"is a prime number\")"
   ]
  },
  {
   "cell_type": "code",
   "execution_count": 46,
   "metadata": {},
   "outputs": [
    {
     "name": "stdout",
     "output_type": "stream",
     "text": [
      "24\n"
     ]
    }
   ],
   "source": [
    "# Write a Python program to calculate the factorial of a number using a while loop. \n",
    "def factorial(n):\n",
    "    while n == 0:\n",
    "        return 1\n",
    "    return n * factorial(n-1)\n",
    "\n",
    "n=int(input(\"Enter a number: \"))\n",
    "print (factorial(n))"
   ]
  },
  {
   "cell_type": "code",
   "execution_count": 53,
   "metadata": {},
   "outputs": [
    {
     "name": "stdout",
     "output_type": "stream",
     "text": [
      "The largest number is 6\n"
     ]
    }
   ],
   "source": [
    "# Write a Python program that takes three integers as input from the user and prints the largest of them using if...else statements\n",
    "num1 = int(input(\"Enter the first number: \"))\n",
    "num2 = int(input(\"Enter the second number: \"))\n",
    "num3 = int(input(\"Enter the third number: \"))\n",
    "if (num1 > num2) and (num1 > num3):\n",
    "    print(\"The largest number is\", num)\n",
    "elif (num2 > num1) and  (num2 > num3):\n",
    "    print(\"The largest number is\", num2)\n",
    "else:\n",
    "    print(\"The largest number is\", num3)"
   ]
  },
  {
   "cell_type": "code",
   "execution_count": 57,
   "metadata": {},
   "outputs": [
    {
     "name": "stdout",
     "output_type": "stream",
     "text": [
      "1\n",
      "22\n",
      "333\n",
      "4444\n"
     ]
    }
   ],
   "source": [
    "# Write a Python program to print the following pattern: \n",
    "#    ``` \n",
    "#    1 \n",
    "#    22 \n",
    "#    333 \n",
    "#    4444 \n",
    "for i in range(1,5):\n",
    "     print(str(i)*i)"
   ]
  },
  {
   "cell_type": "code",
   "execution_count": 59,
   "metadata": {},
   "outputs": [
    {
     "name": "stdout",
     "output_type": "stream",
     "text": [
      "nivahb\n"
     ]
    }
   ],
   "source": [
    "# Write a Python function called `reverse_string` that takes a string parameter `s` and returns its reverse\n",
    "def reverse_string(n):\n",
    "    if not isinstance(n ,str):\n",
    "       raise  TypeError(\"Input should be a string\") \n",
    "    return n[::-1]   \n",
    "n=input(\"enter a string to reverse\")\n",
    "print(reverse_string(n))"
   ]
  },
  {
   "cell_type": "code",
   "execution_count": 65,
   "metadata": {},
   "outputs": [
    {
     "name": "stdout",
     "output_type": "stream",
     "text": [
      "Fibonacci series with 10 elements: 0 1 1 2 3 5 8 13 21 34 "
     ]
    }
   ],
   "source": [
    "def fibonacci(n):\n",
    "    a, b = 0, 1\n",
    "    for i  in range(n):\n",
    "        print(a, end=\" \")\n",
    "        a, b = b, a + b\n",
    " \n",
    "n=int(input(\"Enter the number of terms:\"))\n",
    "print(f\"Fibonacci series with {n} elements:\", end=\" \")\n",
    "fibonacci(n)"
   ]
  },
  {
   "cell_type": "code",
   "execution_count": 77,
   "metadata": {},
   "outputs": [
    {
     "name": "stdout",
     "output_type": "stream",
     "text": [
      "k\n",
      "is a consonant.\n"
     ]
    }
   ],
   "source": [
    "# Write a Python program that takes a character as input from the user and prints whether it is a vowel or a consonant using if...else statements\n",
    "a = input(\"Input a letter of the alphabet: \")\n",
    "print(a)\n",
    "if (a =='a'or a== 'e' or a== 'i'or a== 'o'or a=='u'):\n",
    "    print(\"is a vowel.\")  \n",
    "else:\n",
    "    print(\"is a consonant.\")"
   ]
  },
  {
   "cell_type": "code",
   "execution_count": 78,
   "metadata": {},
   "outputs": [
    {
     "name": "stdout",
     "output_type": "stream",
     "text": [
      "****\n",
      "***\n",
      "**\n",
      "*\n"
     ]
    }
   ],
   "source": [
    "# . Write a Python program to print the following pattern: \n",
    "#     ``` \n",
    "#     **** \n",
    "#     *** \n",
    "#     ** \n",
    "#     * \n",
    "#     ``` \n",
    "for i in range(4, 0, -1):\n",
    "    print('*' * i)\n"
   ]
  },
  {
   "cell_type": "code",
   "execution_count": 80,
   "metadata": {},
   "outputs": [
    {
     "name": "stdout",
     "output_type": "stream",
     "text": [
      "16\n"
     ]
    }
   ],
   "source": [
    "# Write a Python function called `calculate_area` that takes two parameters `length` and `width` and returns the area of a rectangle\n",
    "def rectangle():\n",
    "    length = int(input(\"Please enter the length of the rectangle: \"))\n",
    "    width = int(input(\"Please enter the width of the rectangle: \"))\n",
    "    return length, width\n",
    "def calculate_area(length, width):\n",
    "    return length * width\n",
    "length, width = rectangle()\n",
    "area = calculate_area(length, width)\n",
    "print(area)"
   ]
  },
  {
   "cell_type": "code",
   "execution_count": 104,
   "metadata": {},
   "outputs": [
    {
     "name": "stdout",
     "output_type": "stream",
     "text": [
      "2\n",
      "3\n",
      "5\n",
      "7\n",
      "11\n",
      "13\n",
      "17\n",
      "19\n",
      "23\n",
      "29\n",
      "31\n",
      "37\n",
      "41\n",
      "43\n",
      "47\n"
     ]
    }
   ],
   "source": [
    "# Write a Python program to print all the prime numbers between 1 and 50 using a while loop\n",
    "def is_prime(n):\n",
    "    if n < 2:\n",
    "        return False\n",
    "    for i in range(2, int(n**0.5) + 1):\n",
    "        if n % i == 0:\n",
    "            return False\n",
    "    return True\n",
    "\n",
    "i = 2\n",
    "while i <= 50:\n",
    "    if is_prime(i):\n",
    "        print(i)\n",
    "    i += 1"
   ]
  },
  {
   "cell_type": "code",
   "execution_count": 105,
   "metadata": {},
   "outputs": [
    {
     "name": "stdout",
     "output_type": "stream",
     "text": [
      "The string is a palindrome\n"
     ]
    }
   ],
   "source": [
    "# Write a Python program that takes a string as input from the user and checks whether it is a palindrome or not using if...else statements. \n",
    "my_string=input(\"Enter string:\")\n",
    "if(my_string==my_string[::-1]):\n",
    "   print(\"The string is a palindrome\")\n",
    "else:\n",
    "   print(\"The string isn't a palindrome\")"
   ]
  },
  {
   "cell_type": "code",
   "execution_count": 103,
   "metadata": {},
   "outputs": [
    {
     "name": "stdout",
     "output_type": "stream",
     "text": [
      "1 2 3 4 5 \n",
      "1 2 3 4 \n",
      "1 2 3 \n",
      "1 2 \n",
      "1 \n"
     ]
    }
   ],
   "source": [
    "# Write a Python program to print the following pattern: \n",
    "#     ``` \n",
    "#     1234 \n",
    "#     123 \n",
    "#     12 \n",
    "#     1 \n",
    "n=int(input(\"Enter number: \"))\n",
    "for i in range(n, 0, -1):\n",
    "    for j in range(1, i+1):\n",
    "        print(j,end= ' ')\n",
    "    print()\n"
   ]
  },
  {
   "cell_type": "code",
   "execution_count": 106,
   "metadata": {},
   "outputs": [
    {
     "name": "stdout",
     "output_type": "stream",
     "text": [
      "1024\n"
     ]
    }
   ],
   "source": [
    "# Write a Python function called `calculate_power` that takes two parameters `base` and `exponent` and returns the result of raising the base to the exponent power. \n",
    "def compute_power(base, exponent):\n",
    "   return base ** exponent\n",
    "   def calculate_power(base, exponent):\n",
    "    if exponent == 0:\n",
    "        return 1\n",
    "    else:\n",
    "        return base * calculate_power(base, exponent - 1)\n",
    "base = int(input(\"Input a base: \"))\n",
    "exponent = int(input(\"Input an exponent: \"))\n",
    "print(compute_power(base, exponent))"
   ]
  },
  {
   "cell_type": "code",
   "execution_count": 1,
   "metadata": {},
   "outputs": [
    {
     "name": "stdout",
     "output_type": "stream",
     "text": [
      "    *\n",
      "   **\n",
      "  ***\n",
      " ****\n",
      "*****\n"
     ]
    }
   ],
   "source": [
    "# Write a Python program to print the following pattern: \n",
    "#     ``` \n",
    "#         * \n",
    "#        ** \n",
    "#       *** \n",
    "#      **** \n",
    "#     ***** \n",
    "\n",
    "num = int(input(\"Enter the range: \\t \"))\n",
    "for i in range(num):\n",
    "    for j in range((num - i) - 1):\n",
    "        print(end=\" \")\n",
    "    for k in range(i + 1):\n",
    "        print(\"*\", end=\"\")\n",
    "    print()"
   ]
  },
  {
   "cell_type": "code",
   "execution_count": null,
   "metadata": {},
   "outputs": [],
   "source": []
  },
  {
   "cell_type": "code",
   "execution_count": null,
   "metadata": {},
   "outputs": [],
   "source": []
  }
 ],
 "metadata": {
  "kernelspec": {
   "display_name": "Python 3",
   "language": "python",
   "name": "python3"
  },
  "language_info": {
   "codemirror_mode": {
    "name": "ipython",
    "version": 3
   },
   "file_extension": ".py",
   "mimetype": "text/x-python",
   "name": "python",
   "nbconvert_exporter": "python",
   "pygments_lexer": "ipython3",
   "version": "3.12.2"
  }
 },
 "nbformat": 4,
 "nbformat_minor": 2
}
