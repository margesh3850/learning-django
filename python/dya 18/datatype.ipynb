{
 "cells": [
  {
   "cell_type": "code",
   "execution_count": 11,
   "metadata": {},
   "outputs": [
    {
     "name": "stdout",
     "output_type": "stream",
     "text": [
      "1\n",
      "the number us odd\n"
     ]
    }
   ],
   "source": [
    "number = (int(input(\"enter a number\")))\n",
    "print(number)\n",
    "if  number % 2 ==0:\n",
    "    print (\"the number is even\")\n",
    "else :\n",
    "    print (\"the number is odd\")"
   ]
  },
  {
   "cell_type": "code",
   "execution_count": 12,
   "metadata": {},
   "outputs": [
    {
     "name": "stdout",
     "output_type": "stream",
     "text": [
      "1\n",
      "positive\n"
     ]
    }
   ],
   "source": [
    "number = (int(input(\"enter a number\")))\n",
    "print(number)\n",
    "if number ==0:\n",
    "    print(\"zero\")\n",
    "elif number > 0:\n",
    "    print(\"positive\")\n",
    "else :\n",
    "    print()"
   ]
  },
  {
   "cell_type": "code",
   "execution_count": 17,
   "metadata": {},
   "outputs": [
    {
     "name": "stdout",
     "output_type": "stream",
     "text": [
      "99\n",
      "not divisible\n"
     ]
    }
   ],
   "source": [
    "i = (int(input(\"enter a number\")))\n",
    "print(i)\n",
    "if i%5 ==0 and i%11==0:\n",
    "    print(\"divisible\")\n",
    "else :\n",
    "    print(\"not divisible\")\n",
    "\n"
   ]
  },
  {
   "cell_type": "code",
   "execution_count": 33,
   "metadata": {},
   "outputs": [
    {
     "name": "stdout",
     "output_type": "stream",
     "text": [
      "not a leap year\n"
     ]
    }
   ],
   "source": [
    " i=(int(input(\"enter a year\")))\n",
    "if (i % 4 == 0 and i % 100 != 0) or (i % 400 == 0):\n",
    "        print(\"is a leap year\")\n",
    "else :\n",
    "        print(\"not a leap year\")\n"
   ]
  },
  {
   "cell_type": "code",
   "execution_count": 3,
   "metadata": {},
   "outputs": [
    {
     "name": "stdout",
     "output_type": "stream",
     "text": [
      "Invalid\n"
     ]
    }
   ],
   "source": []
  },
  {
   "cell_type": "code",
   "execution_count": null,
   "metadata": {},
   "outputs": [],
   "source": []
  }
 ],
 "metadata": {
  "kernelspec": {
   "display_name": "Python 3",
   "language": "python",
   "name": "python3"
  },
  "language_info": {
   "codemirror_mode": {
    "name": "ipython",
    "version": 3
   },
   "file_extension": ".py",
   "mimetype": "text/x-python",
   "name": "python",
   "nbconvert_exporter": "python",
   "pygments_lexer": "ipython3",
   "version": "3.12.2"
  }
 },
 "nbformat": 4,
 "nbformat_minor": 2
}
